{
 "cells": [
  {
   "cell_type": "markdown",
   "metadata": {},
   "source": [
    "# Baseball, Moneyball"
   ]
  },
  {
   "cell_type": "markdown",
   "metadata": {},
   "source": [
    "#### Author: Susan Li\n",
    "#### Date: January 12 2017"
   ]
  },
  {
   "cell_type": "markdown",
   "metadata": {},
   "source": [
    "## Introduction\n",
    "This analysis is based on [Lahman's Baseball Database](http://www.seanlahman.com/baseball-archive/statistics/).  The database contains pitching, hitting, and fielding statistics for Major League Baseball from 1871 through 2015. \n",
    "\n",
    "The questions I would like to answer throughout my analysys are :\n",
    "\n",
    "**Question 1**: What is the relationship between OBP (On-Base-Percentage) and team's success?\n",
    "\n",
    "**Question 2**: What is the relationship between team's payroll and wins in 2015?\n",
    "\n",
    "**Question 3**: What is the relationship between pitcher's ERA (Earned Run Average) and his salary?\n",
    "\n",
    "**Question 4**: What is the relationship between batter's home runs and his salary?\n",
    "\n",
    "**Question 5**: Who is the highest paid player? Who are the top 10s?\n",
    "\n",
    "For this project, I will be using the following tables:\n",
    "\n",
    "- Teams.csv\n",
    "- Batting.csv\n",
    "- Pitching.csv\n",
    "- Salaries.csv\n",
    "- Master.csv\n",
    "\n",
    "Because of the high level of inflation in Baseball salaries, in order to make sure my analysis that is most recent and relevant, I will be only using the data from 2010 to 2015 from each table, except Master table.\n",
    "\n",
    "\n",
    "---------\n"
   ]
  },
  {
   "cell_type": "markdown",
   "metadata": {},
   "source": [
    "## Import Primary Moduls"
   ]
  },
  {
   "cell_type": "code",
   "execution_count": 280,
   "metadata": {
    "collapsed": true
   },
   "outputs": [],
   "source": [
    "# Import all necessary packages\n",
    "import numpy as np\n",
    "import pandas as pd\n",
    "import matplotlib.pyplot as plt\n",
    "import seaborn as sns"
   ]
  },
  {
   "cell_type": "code",
   "execution_count": 281,
   "metadata": {
    "collapsed": true
   },
   "outputs": [],
   "source": [
    "%matplotlib inline"
   ]
  },
  {
   "cell_type": "markdown",
   "metadata": {},
   "source": [
    "## Download Data"
   ]
  },
  {
   "cell_type": "code",
   "execution_count": 282,
   "metadata": {
    "collapsed": false
   },
   "outputs": [],
   "source": [
    "# Extract dataframe year start from 2010\n",
    "\n",
    "teams = pd.read_csv('Teams.csv')\n",
    "teams_since_2010 = teams.loc[teams.yearID >= 2010]\n",
    "\n",
    "pitching = pd.read_csv('Pitching.csv')\n",
    "pitching_since_2010 = pitching.loc[pitching.yearID >= 2010]\n",
    "\n",
    "batting = pd.read_csv('Batting.csv')\n",
    "batting_since_2010 = batting.loc[batting.yearID >= 2010]\n",
    "\n",
    "salaries = pd.read_csv('Salaries.csv')\n",
    "salaries_since_2010 = salaries.loc[salaries.yearID >= 2010]\n",
    "\n",
    "master = pd.read_csv('Master.csv')"
   ]
  },
  {
   "cell_type": "markdown",
   "metadata": {},
   "source": [
    "## In order to find the answer to my first question, I will need to do data wrangling for the table I am using first - teams_since_2010."
   ]
  },
  {
   "cell_type": "code",
   "execution_count": 283,
   "metadata": {
    "collapsed": false
   },
   "outputs": [
    {
     "data": {
      "text/plain": [
       "False"
      ]
     },
     "execution_count": 283,
     "metadata": {},
     "output_type": "execute_result"
    }
   ],
   "source": [
    "# Check if any missing value in the datafrme I will be using. Good\n",
    "\n",
    "teams_since_2010.isnull().values.any()"
   ]
  },
  {
   "cell_type": "code",
   "execution_count": 284,
   "metadata": {
    "collapsed": false
   },
   "outputs": [
    {
     "data": {
      "text/plain": [
       "yearID              int64\n",
       "lgID               object\n",
       "teamID             object\n",
       "franchID           object\n",
       "divID              object\n",
       "Rank                int64\n",
       "G                   int64\n",
       "Ghome             float64\n",
       "W                   int64\n",
       "L                   int64\n",
       "DivWin             object\n",
       "WCWin              object\n",
       "LgWin              object\n",
       "WSWin              object\n",
       "R                   int64\n",
       "AB                  int64\n",
       "H                   int64\n",
       "2B                  int64\n",
       "3B                  int64\n",
       "HR                  int64\n",
       "BB                  int64\n",
       "SO                float64\n",
       "SB                float64\n",
       "CS                float64\n",
       "HBP               float64\n",
       "SF                float64\n",
       "RA                  int64\n",
       "ER                  int64\n",
       "ERA               float64\n",
       "CG                  int64\n",
       "SHO                 int64\n",
       "SV                  int64\n",
       "IPouts              int64\n",
       "HA                  int64\n",
       "HRA                 int64\n",
       "BBA                 int64\n",
       "SOA                 int64\n",
       "E                   int64\n",
       "DP                float64\n",
       "FP                float64\n",
       "name               object\n",
       "park               object\n",
       "attendance        float64\n",
       "BPF                 int64\n",
       "PPF                 int64\n",
       "teamIDBR           object\n",
       "teamIDlahman45     object\n",
       "teamIDretro        object\n",
       "dtype: object"
      ]
     },
     "execution_count": 284,
     "metadata": {},
     "output_type": "execute_result"
    }
   ],
   "source": [
    "# Check if data types are correct, so that I can perform vectorized operation\n",
    "\n",
    "teams_since_2010.dtypes"
   ]
  },
  {
   "cell_type": "markdown",
   "metadata": {},
   "source": [
    "## Calculate OBP (On-Base-Percentage), add OBP column. "
   ]
  },
  {
   "cell_type": "code",
   "execution_count": 285,
   "metadata": {
    "collapsed": false
   },
   "outputs": [],
   "source": [
    "# Add a column - OBP (On-Base-Percentage)\n",
    "\n",
    "pd.options.mode.chained_assignment = None  # default='warn'\n",
    "\n",
    "# Caculate the value for OBP\n",
    "\n",
    "teams_since_2010['OBP'] = (teams_since_2010['H'] + teams_since_2010['BB']) / teams_since_2010['AB']"
   ]
  },
  {
   "cell_type": "code",
   "execution_count": 286,
   "metadata": {
    "collapsed": false
   },
   "outputs": [
    {
     "data": {
      "text/html": [
       "<div>\n",
       "<table border=\"1\" class=\"dataframe\">\n",
       "  <thead>\n",
       "    <tr style=\"text-align: right;\">\n",
       "      <th></th>\n",
       "      <th>yearID</th>\n",
       "      <th>lgID</th>\n",
       "      <th>teamID</th>\n",
       "      <th>franchID</th>\n",
       "      <th>divID</th>\n",
       "      <th>Rank</th>\n",
       "      <th>G</th>\n",
       "      <th>Ghome</th>\n",
       "      <th>W</th>\n",
       "      <th>L</th>\n",
       "      <th>...</th>\n",
       "      <th>FP</th>\n",
       "      <th>name</th>\n",
       "      <th>park</th>\n",
       "      <th>attendance</th>\n",
       "      <th>BPF</th>\n",
       "      <th>PPF</th>\n",
       "      <th>teamIDBR</th>\n",
       "      <th>teamIDlahman45</th>\n",
       "      <th>teamIDretro</th>\n",
       "      <th>OBP</th>\n",
       "    </tr>\n",
       "  </thead>\n",
       "  <tbody>\n",
       "    <tr>\n",
       "      <th>2625</th>\n",
       "      <td>2010</td>\n",
       "      <td>NL</td>\n",
       "      <td>ARI</td>\n",
       "      <td>ARI</td>\n",
       "      <td>W</td>\n",
       "      <td>5</td>\n",
       "      <td>162</td>\n",
       "      <td>81.0</td>\n",
       "      <td>65</td>\n",
       "      <td>97</td>\n",
       "      <td>...</td>\n",
       "      <td>0.983</td>\n",
       "      <td>Arizona Diamondbacks</td>\n",
       "      <td>Chase Field</td>\n",
       "      <td>2056941.0</td>\n",
       "      <td>104</td>\n",
       "      <td>105</td>\n",
       "      <td>ARI</td>\n",
       "      <td>ARI</td>\n",
       "      <td>ARI</td>\n",
       "      <td>0.357208</td>\n",
       "    </tr>\n",
       "    <tr>\n",
       "      <th>2626</th>\n",
       "      <td>2010</td>\n",
       "      <td>NL</td>\n",
       "      <td>ATL</td>\n",
       "      <td>ATL</td>\n",
       "      <td>E</td>\n",
       "      <td>2</td>\n",
       "      <td>162</td>\n",
       "      <td>81.0</td>\n",
       "      <td>91</td>\n",
       "      <td>71</td>\n",
       "      <td>...</td>\n",
       "      <td>0.980</td>\n",
       "      <td>Atlanta Braves</td>\n",
       "      <td>Turner Field</td>\n",
       "      <td>2510119.0</td>\n",
       "      <td>98</td>\n",
       "      <td>97</td>\n",
       "      <td>ATL</td>\n",
       "      <td>ATL</td>\n",
       "      <td>ATL</td>\n",
       "      <td>0.374336</td>\n",
       "    </tr>\n",
       "    <tr>\n",
       "      <th>2627</th>\n",
       "      <td>2010</td>\n",
       "      <td>AL</td>\n",
       "      <td>BAL</td>\n",
       "      <td>BAL</td>\n",
       "      <td>E</td>\n",
       "      <td>5</td>\n",
       "      <td>162</td>\n",
       "      <td>81.0</td>\n",
       "      <td>66</td>\n",
       "      <td>96</td>\n",
       "      <td>...</td>\n",
       "      <td>0.982</td>\n",
       "      <td>Baltimore Orioles</td>\n",
       "      <td>Oriole Park at Camden Yards</td>\n",
       "      <td>1733018.0</td>\n",
       "      <td>101</td>\n",
       "      <td>102</td>\n",
       "      <td>BAL</td>\n",
       "      <td>BAL</td>\n",
       "      <td>BAL</td>\n",
       "      <td>0.335614</td>\n",
       "    </tr>\n",
       "    <tr>\n",
       "      <th>2628</th>\n",
       "      <td>2010</td>\n",
       "      <td>AL</td>\n",
       "      <td>BOS</td>\n",
       "      <td>BOS</td>\n",
       "      <td>E</td>\n",
       "      <td>3</td>\n",
       "      <td>162</td>\n",
       "      <td>81.0</td>\n",
       "      <td>89</td>\n",
       "      <td>73</td>\n",
       "      <td>...</td>\n",
       "      <td>0.982</td>\n",
       "      <td>Boston Red Sox</td>\n",
       "      <td>Fenway Park II</td>\n",
       "      <td>3046443.0</td>\n",
       "      <td>106</td>\n",
       "      <td>105</td>\n",
       "      <td>BOS</td>\n",
       "      <td>BOS</td>\n",
       "      <td>BOS</td>\n",
       "      <td>0.371591</td>\n",
       "    </tr>\n",
       "    <tr>\n",
       "      <th>2629</th>\n",
       "      <td>2010</td>\n",
       "      <td>AL</td>\n",
       "      <td>CHA</td>\n",
       "      <td>CHW</td>\n",
       "      <td>C</td>\n",
       "      <td>2</td>\n",
       "      <td>162</td>\n",
       "      <td>81.0</td>\n",
       "      <td>88</td>\n",
       "      <td>74</td>\n",
       "      <td>...</td>\n",
       "      <td>0.983</td>\n",
       "      <td>Chicago White Sox</td>\n",
       "      <td>U.S. Cellular Field</td>\n",
       "      <td>2194378.0</td>\n",
       "      <td>105</td>\n",
       "      <td>105</td>\n",
       "      <td>CHW</td>\n",
       "      <td>CHA</td>\n",
       "      <td>CHA</td>\n",
       "      <td>0.352662</td>\n",
       "    </tr>\n",
       "  </tbody>\n",
       "</table>\n",
       "<p>5 rows × 49 columns</p>\n",
       "</div>"
      ],
      "text/plain": [
       "      yearID lgID teamID franchID divID  Rank    G  Ghome   W   L    ...     \\\n",
       "2625    2010   NL    ARI      ARI     W     5  162   81.0  65  97    ...      \n",
       "2626    2010   NL    ATL      ATL     E     2  162   81.0  91  71    ...      \n",
       "2627    2010   AL    BAL      BAL     E     5  162   81.0  66  96    ...      \n",
       "2628    2010   AL    BOS      BOS     E     3  162   81.0  89  73    ...      \n",
       "2629    2010   AL    CHA      CHW     C     2  162   81.0  88  74    ...      \n",
       "\n",
       "         FP                  name                         park attendance  \\\n",
       "2625  0.983  Arizona Diamondbacks                  Chase Field  2056941.0   \n",
       "2626  0.980        Atlanta Braves                 Turner Field  2510119.0   \n",
       "2627  0.982     Baltimore Orioles  Oriole Park at Camden Yards  1733018.0   \n",
       "2628  0.982        Boston Red Sox               Fenway Park II  3046443.0   \n",
       "2629  0.983     Chicago White Sox          U.S. Cellular Field  2194378.0   \n",
       "\n",
       "      BPF  PPF  teamIDBR  teamIDlahman45  teamIDretro       OBP  \n",
       "2625  104  105       ARI             ARI          ARI  0.357208  \n",
       "2626   98   97       ATL             ATL          ATL  0.374336  \n",
       "2627  101  102       BAL             BAL          BAL  0.335614  \n",
       "2628  106  105       BOS             BOS          BOS  0.371591  \n",
       "2629  105  105       CHW             CHA          CHA  0.352662  \n",
       "\n",
       "[5 rows x 49 columns]"
      ]
     },
     "execution_count": 286,
     "metadata": {},
     "output_type": "execute_result"
    }
   ],
   "source": [
    "# Make sure the new column has been added\n",
    "\n",
    "teams_since_2010.head()"
   ]
  },
  {
   "cell_type": "markdown",
   "metadata": {},
   "source": [
    "## Compute the relationship of OBP and teams' wins."
   ]
  },
  {
   "cell_type": "code",
   "execution_count": 287,
   "metadata": {
    "collapsed": false
   },
   "outputs": [
    {
     "name": "stdout",
     "output_type": "stream",
     "text": [
      "Correlation of On-Base-Percentage to wins 2010-2015\n",
      "0.5220304596244463\n"
     ]
    }
   ],
   "source": [
    "# Define a function to compute the correlation between the two input variables\n",
    "\n",
    "def correlation(x,y):\n",
    "    return ((x-x.mean())*(y-y.mean())).mean() / (x.std(ddof=0) * y.std(ddof=0))\n",
    "\n",
    "wins=teams_since_2010['W']\n",
    "on_base_percentage = teams_since_2010['OBP']\n",
    "\n",
    "print('Correlation of On-Base-Percentage to wins 2010-2015')\n",
    "print(correlation(on_base_percentage, wins))"
   ]
  },
  {
   "cell_type": "markdown",
   "metadata": {},
   "source": [
    "## Then visualize it."
   ]
  },
  {
   "cell_type": "code",
   "execution_count": 288,
   "metadata": {
    "collapsed": false
   },
   "outputs": [
    {
     "data": {
      "text/plain": [
       "<matplotlib.text.Text at 0x179e0375320>"
      ]
     },
     "execution_count": 288,
     "metadata": {},
     "output_type": "execute_result"
    },
    {
     "data": {
      "image/png": "[encoded data removed]",
      "text/plain": [
       "<matplotlib.figure.Figure at 0x179e036d390>"
      ]
     },
     "metadata": {},
     "output_type": "display_data"
    }
   ],
   "source": [
    "# Then plot a regression model plot\n",
    "\n",
    "sns.lmplot('OBP', \"W\", teams_since_2010, scatter_kws={'marker':'o', 'color': 'indianred'}, \n",
    "           line_kws={'linewidth':1,'color':'blue'}, size = 4, aspect = 2)\n",
    "\n",
    "plt.title('Correlation of On-Base-Percentage to Wins from 2010 to 2015: 0.522')\n",
    "plt.xlabel('On-Base-Percentage')\n",
    "plt.ylabel('Number of Wins')"
   ]
  },
  {
   "cell_type": "markdown",
   "metadata": {},
   "source": [
    "### From the above analysis, it appears that OBP(On-Base-Percentage) has a medium correlation with team's winning from 2010 to 2015."
   ]
  },
  {
   "cell_type": "markdown",
   "metadata": {},
   "source": [
    "## In order to find the answer to my second question, I will need two tables - salaries_since_2010 and teams_since_2010. So let's do data wrangling for these two tables."
   ]
  },
  {
   "cell_type": "code",
   "execution_count": 289,
   "metadata": {
    "collapsed": false
   },
   "outputs": [
    {
     "data": {
      "text/plain": [
       "False"
      ]
     },
     "execution_count": 289,
     "metadata": {},
     "output_type": "execute_result"
    }
   ],
   "source": [
    "# Check whether there is NaN value in salaries table\n",
    "\n",
    "salaries_since_2010.isnull().values.any()"
   ]
  },
  {
   "cell_type": "code",
   "execution_count": 290,
   "metadata": {
    "collapsed": false
   },
   "outputs": [
    {
     "data": {
      "text/html": [
       "<div>\n",
       "<table border=\"1\" class=\"dataframe\">\n",
       "  <thead>\n",
       "    <tr style=\"text-align: right;\">\n",
       "      <th></th>\n",
       "      <th>yearID</th>\n",
       "      <th>teamID</th>\n",
       "      <th>lgID</th>\n",
       "      <th>playerID</th>\n",
       "      <th>salary</th>\n",
       "    </tr>\n",
       "  </thead>\n",
       "  <tbody>\n",
       "  </tbody>\n",
       "</table>\n",
       "</div>"
      ],
      "text/plain": [
       "Empty DataFrame\n",
       "Columns: [yearID, teamID, lgID, playerID, salary]\n",
       "Index: []"
      ]
     },
     "execution_count": 290,
     "metadata": {},
     "output_type": "execute_result"
    }
   ],
   "source": [
    "# Check whether there is \"zero\" value in salaries table\n",
    "\n",
    "salaries_since_2010[salaries_since_2010[\"salary\"] == 0]"
   ]
  },
  {
   "cell_type": "code",
   "execution_count": 291,
   "metadata": {
    "collapsed": false
   },
   "outputs": [
    {
     "data": {
      "text/plain": [
       "yearID       int64\n",
       "teamID      object\n",
       "lgID        object\n",
       "playerID    object\n",
       "salary       int64\n",
       "dtype: object"
      ]
     },
     "execution_count": 291,
     "metadata": {},
     "output_type": "execute_result"
    }
   ],
   "source": [
    "# Make sure the data types are all correct, in order to perform vectorized operation\n",
    "\n",
    "salaries_since_2010.dtypes"
   ]
  },
  {
   "cell_type": "code",
   "execution_count": 292,
   "metadata": {
    "collapsed": false
   },
   "outputs": [
    {
     "data": {
      "text/plain": [
       "False"
      ]
     },
     "execution_count": 292,
     "metadata": {},
     "output_type": "execute_result"
    }
   ],
   "source": [
    "# I will only need column 'W' in teams table, so I want to make sure there is no missing value in this column\n",
    "\n",
    "teams_since_2010['W'].isnull().values.any()"
   ]
  },
  {
   "cell_type": "code",
   "execution_count": 293,
   "metadata": {
    "collapsed": false
   },
   "outputs": [
    {
     "data": {
      "text/plain": [
       "<matplotlib.text.Text at 0x179e03e0780>"
      ]
     },
     "execution_count": 293,
     "metadata": {},
     "output_type": "execute_result"
    },
    {
     "data": {
      "image/png": "[encoded data removed]",
      "text/plain": [
       "<matplotlib.figure.Figure at 0x179e0375b38>"
      ]
     },
     "metadata": {},
     "output_type": "display_data"
    }
   ],
   "source": [
    "# First, I want to take a look of the team payroll's distribution in 2015, so plot a histogram\n",
    "\n",
    "salaries_by_yearID_teamID = salaries_since_2010.groupby(['yearID', 'teamID'])['salary'].sum()/1000000\n",
    "salaries_by_yearID_teamID.loc[2015].hist()\n",
    "\n",
    "plt.title(\"Histogram of Team's Payroll in 2015\")\n",
    "plt.xlabel('Payroll in Millions')\n",
    "plt.ylabel('Number of Teams')"
   ]
  },
  {
   "cell_type": "markdown",
   "metadata": {},
   "source": [
    "### So, the most frequent team payroll is around 110 million to 120 million (approx 11 teams in this range). Two teams pay 200 million to 220 millions to their players. I think they are New York Yankees and Los Angeles Dodgers. Let me double check.  "
   ]
  },
  {
   "cell_type": "code",
   "execution_count": 294,
   "metadata": {
    "collapsed": false
   },
   "outputs": [
    {
     "data": {
      "text/plain": [
       "<matplotlib.text.Text at 0x179e03d7a90>"
      ]
     },
     "execution_count": 294,
     "metadata": {},
     "output_type": "execute_result"
    },
    {
     "data": {
      "image/png": "[encoded data removed]",
      "text/plain": [
       "<matplotlib.figure.Figure at 0x179e0456cc0>"
      ]
     },
     "metadata": {},
     "output_type": "display_data"
    }
   ],
   "source": [
    "# Plot a bar chart\n",
    "\n",
    "salaries_by_yearID_teamID.loc[2015].sort_values(ascending=False).plot(kind='bar')\n",
    "plt.title(\"Bar Chart for Team's Payroll in 2015\")\n",
    "plt.ylabel(\"Payroll in Millions\")"
   ]
  },
  {
   "cell_type": "markdown",
   "metadata": {},
   "source": [
    "### Yes, they are.\n",
    "\n",
    "### Now, I want to create a function, so that I will be able to get the maximum and minimum player's salary for each year from 2010 to 2015."
   ]
  },
  {
   "cell_type": "code",
   "execution_count": 295,
   "metadata": {
    "collapsed": false
   },
   "outputs": [
    {
     "name": "stdout",
     "output_type": "stream",
     "text": [
      "Max and Min player's salary for 2014\n",
      "(26000000, 500000)\n"
     ]
    }
   ],
   "source": [
    "# Set the year as index\n",
    "salaries_indexed = salaries_since_2010.set_index('yearID')\n",
    "\n",
    "# Create a function, calculate the max and min salary for any year from 2010 to 2015\n",
    "\n",
    "def min_and_max_salary_per_year(salaries):\n",
    "    \n",
    "    max_salary_per_year = salaries.max()  \n",
    "    min_salary_per_year = salaries.min()\n",
    "    \n",
    "    return (max_salary_per_year, min_salary_per_year)\n",
    "\n",
    "print(\"Max and Min player's salary for 2014\")\n",
    "print(min_and_max_salary_per_year(salaries_indexed.loc[2014]['salary'])) # I want to get max and min for 2014"
   ]
  },
  {
   "cell_type": "markdown",
   "metadata": {},
   "source": [
    "### Good, with this function, I can get any year's Max and Min from 2010 - 2015. "
   ]
  },
  {
   "cell_type": "markdown",
   "metadata": {},
   "source": [
    "## In order to find the correlation between team's payroll and wins, I will need to merge these two tables - teams_since_2010 & salaries_since_2010. Then groupby teamID and yearID, extract total wins and payroll for each team, then get the year I am interested in - 2015."
   ]
  },
  {
   "cell_type": "code",
   "execution_count": 296,
   "metadata": {
    "collapsed": false
   },
   "outputs": [
    {
     "data": {
      "text/html": [
       "<div>\n",
       "<table border=\"1\" class=\"dataframe\">\n",
       "  <thead>\n",
       "    <tr style=\"text-align: right;\">\n",
       "      <th></th>\n",
       "      <th>yearID</th>\n",
       "      <th>lgID</th>\n",
       "      <th>teamID</th>\n",
       "      <th>franchID</th>\n",
       "      <th>divID</th>\n",
       "      <th>Rank</th>\n",
       "      <th>G</th>\n",
       "      <th>Ghome</th>\n",
       "      <th>W</th>\n",
       "      <th>L</th>\n",
       "      <th>...</th>\n",
       "      <th>park</th>\n",
       "      <th>attendance</th>\n",
       "      <th>BPF</th>\n",
       "      <th>PPF</th>\n",
       "      <th>teamIDBR</th>\n",
       "      <th>teamIDlahman45</th>\n",
       "      <th>teamIDretro</th>\n",
       "      <th>OBP</th>\n",
       "      <th>playerID</th>\n",
       "      <th>salary</th>\n",
       "    </tr>\n",
       "  </thead>\n",
       "  <tbody>\n",
       "    <tr>\n",
       "      <th>0</th>\n",
       "      <td>2010</td>\n",
       "      <td>NL</td>\n",
       "      <td>ARI</td>\n",
       "      <td>ARI</td>\n",
       "      <td>W</td>\n",
       "      <td>5</td>\n",
       "      <td>162</td>\n",
       "      <td>81.0</td>\n",
       "      <td>65</td>\n",
       "      <td>97</td>\n",
       "      <td>...</td>\n",
       "      <td>Chase Field</td>\n",
       "      <td>2056941.0</td>\n",
       "      <td>104</td>\n",
       "      <td>105</td>\n",
       "      <td>ARI</td>\n",
       "      <td>ARI</td>\n",
       "      <td>ARI</td>\n",
       "      <td>0.357208</td>\n",
       "      <td>abreuto01</td>\n",
       "      <td>407000</td>\n",
       "    </tr>\n",
       "    <tr>\n",
       "      <th>1</th>\n",
       "      <td>2010</td>\n",
       "      <td>NL</td>\n",
       "      <td>ARI</td>\n",
       "      <td>ARI</td>\n",
       "      <td>W</td>\n",
       "      <td>5</td>\n",
       "      <td>162</td>\n",
       "      <td>81.0</td>\n",
       "      <td>65</td>\n",
       "      <td>97</td>\n",
       "      <td>...</td>\n",
       "      <td>Chase Field</td>\n",
       "      <td>2056941.0</td>\n",
       "      <td>104</td>\n",
       "      <td>105</td>\n",
       "      <td>ARI</td>\n",
       "      <td>ARI</td>\n",
       "      <td>ARI</td>\n",
       "      <td>0.357208</td>\n",
       "      <td>boyerbl01</td>\n",
       "      <td>725000</td>\n",
       "    </tr>\n",
       "    <tr>\n",
       "      <th>2</th>\n",
       "      <td>2010</td>\n",
       "      <td>NL</td>\n",
       "      <td>ARI</td>\n",
       "      <td>ARI</td>\n",
       "      <td>W</td>\n",
       "      <td>5</td>\n",
       "      <td>162</td>\n",
       "      <td>81.0</td>\n",
       "      <td>65</td>\n",
       "      <td>97</td>\n",
       "      <td>...</td>\n",
       "      <td>Chase Field</td>\n",
       "      <td>2056941.0</td>\n",
       "      <td>104</td>\n",
       "      <td>105</td>\n",
       "      <td>ARI</td>\n",
       "      <td>ARI</td>\n",
       "      <td>ARI</td>\n",
       "      <td>0.357208</td>\n",
       "      <td>drewst01</td>\n",
       "      <td>3400000</td>\n",
       "    </tr>\n",
       "  </tbody>\n",
       "</table>\n",
       "<p>3 rows × 51 columns</p>\n",
       "</div>"
      ],
      "text/plain": [
       "   yearID lgID teamID franchID divID  Rank    G  Ghome   W   L   ...     \\\n",
       "0    2010   NL    ARI      ARI     W     5  162   81.0  65  97   ...      \n",
       "1    2010   NL    ARI      ARI     W     5  162   81.0  65  97   ...      \n",
       "2    2010   NL    ARI      ARI     W     5  162   81.0  65  97   ...      \n",
       "\n",
       "          park attendance  BPF  PPF  teamIDBR  teamIDlahman45  teamIDretro  \\\n",
       "0  Chase Field  2056941.0  104  105       ARI             ARI          ARI   \n",
       "1  Chase Field  2056941.0  104  105       ARI             ARI          ARI   \n",
       "2  Chase Field  2056941.0  104  105       ARI             ARI          ARI   \n",
       "\n",
       "        OBP   playerID   salary  \n",
       "0  0.357208  abreuto01   407000  \n",
       "1  0.357208  boyerbl01   725000  \n",
       "2  0.357208   drewst01  3400000  \n",
       "\n",
       "[3 rows x 51 columns]"
      ]
     },
     "execution_count": 296,
     "metadata": {},
     "output_type": "execute_result"
    }
   ],
   "source": [
    "# In order to find the correlation between team's win and payroll, I need to merge team table and salaries table\n",
    "\n",
    "teams_and_salaries = teams_since_2010.merge(salaries_since_2010, on=['yearID', 'teamID', 'lgID'], how='inner')\n",
    "\n",
    "# Double check the two tables has been merged\n",
    "\n",
    "teams_and_salaries.head(3)"
   ]
  },
  {
   "cell_type": "code",
   "execution_count": 297,
   "metadata": {
    "collapsed": false
   },
   "outputs": [
    {
     "data": {
      "text/html": [
       "<div>\n",
       "<table border=\"1\" class=\"dataframe\">\n",
       "  <thead>\n",
       "    <tr style=\"text-align: right;\">\n",
       "      <th></th>\n",
       "      <th>W</th>\n",
       "      <th>salary</th>\n",
       "    </tr>\n",
       "    <tr>\n",
       "      <th>teamID</th>\n",
       "      <th></th>\n",
       "      <th></th>\n",
       "    </tr>\n",
       "  </thead>\n",
       "  <tbody>\n",
       "    <tr>\n",
       "      <th>ARI</th>\n",
       "      <td>2212</td>\n",
       "      <td>56959000</td>\n",
       "    </tr>\n",
       "    <tr>\n",
       "      <th>ATL</th>\n",
       "      <td>1608</td>\n",
       "      <td>71781250</td>\n",
       "    </tr>\n",
       "    <tr>\n",
       "      <th>BAL</th>\n",
       "      <td>2268</td>\n",
       "      <td>115044833</td>\n",
       "    </tr>\n",
       "    <tr>\n",
       "      <th>BOS</th>\n",
       "      <td>2496</td>\n",
       "      <td>181103400</td>\n",
       "    </tr>\n",
       "    <tr>\n",
       "      <th>CHA</th>\n",
       "      <td>2052</td>\n",
       "      <td>112373700</td>\n",
       "    </tr>\n",
       "  </tbody>\n",
       "</table>\n",
       "</div>"
      ],
      "text/plain": [
       "           W     salary\n",
       "teamID                 \n",
       "ARI     2212   56959000\n",
       "ATL     1608   71781250\n",
       "BAL     2268  115044833\n",
       "BOS     2496  181103400\n",
       "CHA     2052  112373700"
      ]
     },
     "execution_count": 297,
     "metadata": {},
     "output_type": "execute_result"
    }
   ],
   "source": [
    "# Then group yearID and teamID, extract total wins and payrolls for each team \n",
    "\n",
    "teams_and_salaries_grouped = teams_and_salaries.groupby(['yearID', 'teamID']).sum()[['W', 'salary']]\n",
    "\n",
    "# And get the numbers for 2015\n",
    "\n",
    "teams_and_salaries_grouped.loc[2015].head()"
   ]
  },
  {
   "cell_type": "code",
   "execution_count": 298,
   "metadata": {
    "collapsed": false
   },
   "outputs": [
    {
     "name": "stdout",
     "output_type": "stream",
     "text": [
      "Correlation of team's payroll to wins 2015\n",
      "0.3370214688460138\n"
     ]
    }
   ],
   "source": [
    "# Using the function defined earlier to compute the correlation\n",
    "\n",
    "print(\"Correlation of team's payroll to wins 2015\")\n",
    "print(correlation(teams_and_salaries_grouped.loc[2015]['W'], teams_and_salaries_grouped.loc[2015]['salary']))"
   ]
  },
  {
   "cell_type": "markdown",
   "metadata": {},
   "source": [
    "## Then visualize it."
   ]
  },
  {
   "cell_type": "code",
   "execution_count": 299,
   "metadata": {
    "collapsed": false
   },
   "outputs": [
    {
     "data": {
      "text/plain": [
       "<matplotlib.text.Text at 0x179e05391d0>"
      ]
     },
     "execution_count": 299,
     "metadata": {},
     "output_type": "execute_result"
    },
    {
     "data": {
      "image/png": "[encoded data removed]",
      "text/plain": [
       "<matplotlib.figure.Figure at 0x179e03793c8>"
      ]
     },
     "metadata": {},
     "output_type": "display_data"
    }
   ],
   "source": [
    "# Apply to a regression model plot\n",
    "\n",
    "sns.lmplot('salary', \"W\", teams_and_salaries_grouped.loc[2015], scatter_kws={'marker':'o', 'color': 'indianred'}, \n",
    "           line_kws={'linewidth':1,'color':'blue'}, size = 4, aspect = 2)\n",
    "\n",
    "plt.title(\"Correlation of Team's Payroll to Wins in 2015: 0.337\")\n",
    "plt.xlabel(\"Team's Payroll\")\n",
    "plt.ylabel('Number of Wins')"
   ]
  },
  {
   "cell_type": "markdown",
   "metadata": {},
   "source": [
    "### From the above analysis, it appears that the amount of money spent on team's payroll does have a positve correlation with the winning in 2015. However, this relationship is not strong. There are teams with similar budget on payroll but have a huge difference in number of wins (range from approx 1600 to more than 2700), and there are teams with small budget has won as many times as big budget teams. As a matter of fact, from the above graph, the team that had the most successes is a small budget team. Therefore, from the above analysis, we can't say that payroll is a predictor of a team's success."
   ]
  },
  {
   "cell_type": "markdown",
   "metadata": {},
   "source": [
    "## In order to answer the third question (correlation of ERA and salary), I will need two tables - pitching_since_2010 &  salaries_since_2010. Let me do data wrangling for pitching table first, then merge these two tables."
   ]
  },
  {
   "cell_type": "code",
   "execution_count": 300,
   "metadata": {
    "collapsed": false
   },
   "outputs": [
    {
     "data": {
      "text/plain": [
       "playerID       0\n",
       "yearID         0\n",
       "stint          0\n",
       "teamID         0\n",
       "lgID           0\n",
       "W              0\n",
       "L              0\n",
       "G              0\n",
       "GS             0\n",
       "CG             0\n",
       "SHO            0\n",
       "SV             0\n",
       "IPouts         1\n",
       "H              0\n",
       "ER             0\n",
       "HR             0\n",
       "BB             0\n",
       "SO             0\n",
       "BAOpp          4\n",
       "ERA            7\n",
       "IBB            0\n",
       "WP             0\n",
       "HBP            1\n",
       "BK             0\n",
       "BFP            0\n",
       "GF             0\n",
       "R              0\n",
       "SH             0\n",
       "SF             0\n",
       "GIDP        3649\n",
       "dtype: int64"
      ]
     },
     "execution_count": 300,
     "metadata": {},
     "output_type": "execute_result"
    }
   ],
   "source": [
    "# I am interested in \"ERA' column, there are seven missing valuse there, I decided to remove them.\n",
    "\n",
    "pd.isnull(pitching_since_2010).sum()"
   ]
  },
  {
   "cell_type": "code",
   "execution_count": 301,
   "metadata": {
    "collapsed": false
   },
   "outputs": [],
   "source": [
    "# I used numpy's isfinite() to take rows where 'ERA' is finite\n",
    "\n",
    "pitching_since_2010 = pitching_since_2010[np.isfinite(pitching_since_2010['ERA'])]"
   ]
  },
  {
   "cell_type": "code",
   "execution_count": 302,
   "metadata": {
    "collapsed": false
   },
   "outputs": [
    {
     "data": {
      "text/plain": [
       "playerID       0\n",
       "yearID         0\n",
       "stint          0\n",
       "teamID         0\n",
       "lgID           0\n",
       "W              0\n",
       "L              0\n",
       "G              0\n",
       "GS             0\n",
       "CG             0\n",
       "SHO            0\n",
       "SV             0\n",
       "IPouts         0\n",
       "H              0\n",
       "ER             0\n",
       "HR             0\n",
       "BB             0\n",
       "SO             0\n",
       "BAOpp          1\n",
       "ERA            0\n",
       "IBB            0\n",
       "WP             0\n",
       "HBP            0\n",
       "BK             0\n",
       "BFP            0\n",
       "GF             0\n",
       "R              0\n",
       "SH             0\n",
       "SF             0\n",
       "GIDP        3644\n",
       "dtype: int64"
      ]
     },
     "execution_count": 302,
     "metadata": {},
     "output_type": "execute_result"
    }
   ],
   "source": [
    "# Double check there is no missing value in ERA column anymore\n",
    "\n",
    "pd.isnull(pitching_since_2010).sum()"
   ]
  },
  {
   "cell_type": "code",
   "execution_count": 303,
   "metadata": {
    "collapsed": false
   },
   "outputs": [],
   "source": [
    "# Merge pitching table and salaries table\n",
    "\n",
    "pitching_and_salaries = pitching_since_2010.merge(salaries_since_2010, on=['playerID', 'yearID', 'teamID', 'lgID'], \n",
    "                                                  how='inner')\n",
    "\n",
    "# Group players and get the average ERA and salary for each player from 2010 to 2015\n",
    "\n",
    "pitching_and_salaries_grouped = pitching_and_salaries.groupby('playerID').mean()[['ERA', 'salary']]"
   ]
  },
  {
   "cell_type": "markdown",
   "metadata": {},
   "source": [
    "## After group players and get average ERA and salary for each player from 2010 to 2015, compute the correlation of pitcher's ERA and his salary."
   ]
  },
  {
   "cell_type": "code",
   "execution_count": 304,
   "metadata": {
    "collapsed": false
   },
   "outputs": [
    {
     "name": "stdout",
     "output_type": "stream",
     "text": [
      "Correlation of pitcher's ERA to salary 2010-2015\n",
      "-0.10720614965930884\n"
     ]
    }
   ],
   "source": [
    "# Apply the function defined earlier and get the correlation of ERA and salary\n",
    "\n",
    "print(\"Correlation of pitcher's ERA to salary 2010-2015\")\n",
    "print(correlation(pitching_and_salaries_grouped['ERA'], pitching_and_salaries_grouped['salary']))"
   ]
  },
  {
   "cell_type": "code",
   "execution_count": 305,
   "metadata": {
    "collapsed": false
   },
   "outputs": [
    {
     "data": {
      "text/plain": [
       "<matplotlib.text.Text at 0x179e05ded30>"
      ]
     },
     "execution_count": 305,
     "metadata": {},
     "output_type": "execute_result"
    },
    {
     "data": {
      "image/png": "[encoded data removed]",
      "text/plain": [
       "<matplotlib.figure.Figure at 0x179e0530e10>"
      ]
     },
     "metadata": {},
     "output_type": "display_data"
    }
   ],
   "source": [
    "# I like to use regression model plot for this kind of correlation analysis\n",
    "\n",
    "sns.lmplot('ERA', \"salary\", pitching_and_salaries_grouped, scatter_kws={'marker':'o', 'color': 'indianred'}, \n",
    "           line_kws={'linewidth':1,'color':'blue'}, size = 4, aspect = 2)\n",
    "\n",
    "plt.title(\"Correlation of Pitcher's ERA to Salary from 2010 to 2015: -0.107\")\n",
    "plt.xlabel('Earned-Run-Average')\n",
    "plt.ylabel(\"Pitcher's Salary\")"
   ]
  },
  {
   "cell_type": "markdown",
   "metadata": {},
   "source": [
    "### The low correlation of ERA and salary shows that ERA is not a indicator of how valuable a pitcher is. Starting pitchers tend to get less salary for the same ERA. In another word, we can't predicate salary from ERA.  "
   ]
  },
  {
   "cell_type": "markdown",
   "metadata": {},
   "source": [
    "## To answer my fourth question - correlation of batter's home runs and salary, I will need two tables - battings_since_2010 & salaries_since_2010. First, check whether there are missing values in batting table, then merge these two tables, then groupby ..."
   ]
  },
  {
   "cell_type": "code",
   "execution_count": 306,
   "metadata": {
    "collapsed": false
   },
   "outputs": [
    {
     "data": {
      "text/plain": [
       "playerID    0\n",
       "yearID      0\n",
       "stint       0\n",
       "teamID      0\n",
       "lgID        0\n",
       "G           0\n",
       "AB          0\n",
       "R           0\n",
       "H           0\n",
       "2B          0\n",
       "3B          0\n",
       "HR          0\n",
       "RBI         0\n",
       "SB          0\n",
       "CS          0\n",
       "BB          0\n",
       "SO          0\n",
       "IBB         0\n",
       "HBP         0\n",
       "SH          0\n",
       "SF          0\n",
       "GIDP        0\n",
       "dtype: int64"
      ]
     },
     "execution_count": 306,
     "metadata": {},
     "output_type": "execute_result"
    }
   ],
   "source": [
    "# No missing values, perfect\n",
    "\n",
    "pd.isnull(batting_since_2010).sum()"
   ]
  },
  {
   "cell_type": "markdown",
   "metadata": {},
   "source": [
    "### In order to better understand batter's home run with his salary, I decided to categorize batter's salary to three categories - High (higher than 10 million), Medium (between 1 million and 10 million) and Low (lower than 1 million), and add a \"Class\" column."
   ]
  },
  {
   "cell_type": "code",
   "execution_count": 307,
   "metadata": {
    "collapsed": false
   },
   "outputs": [],
   "source": [
    "# define a function for the new class column\n",
    "\n",
    "def classifier(row):\n",
    "    if row[\"salary\"] > 10000000:\n",
    "        return 'High'\n",
    "    elif row[\"salary\"] >= 1000000:\n",
    "        return \"Medium\"\n",
    "    else:\n",
    "        return \"Low\"\n",
    "    \n",
    "salaries_since_2010['Class'] = salaries_since_2010.apply(classifier, axis=1) # Add a new column - Class"
   ]
  },
  {
   "cell_type": "code",
   "execution_count": 308,
   "metadata": {
    "collapsed": false
   },
   "outputs": [
    {
     "data": {
      "text/html": [
       "<div>\n",
       "<table border=\"1\" class=\"dataframe\">\n",
       "  <thead>\n",
       "    <tr style=\"text-align: right;\">\n",
       "      <th></th>\n",
       "      <th>yearID</th>\n",
       "      <th>teamID</th>\n",
       "      <th>lgID</th>\n",
       "      <th>playerID</th>\n",
       "      <th>salary</th>\n",
       "      <th>Class</th>\n",
       "    </tr>\n",
       "  </thead>\n",
       "  <tbody>\n",
       "    <tr>\n",
       "      <th>20624</th>\n",
       "      <td>2010</td>\n",
       "      <td>ARI</td>\n",
       "      <td>NL</td>\n",
       "      <td>abreuto01</td>\n",
       "      <td>407000</td>\n",
       "      <td>Low</td>\n",
       "    </tr>\n",
       "    <tr>\n",
       "      <th>20625</th>\n",
       "      <td>2010</td>\n",
       "      <td>ARI</td>\n",
       "      <td>NL</td>\n",
       "      <td>boyerbl01</td>\n",
       "      <td>725000</td>\n",
       "      <td>Low</td>\n",
       "    </tr>\n",
       "    <tr>\n",
       "      <th>20626</th>\n",
       "      <td>2010</td>\n",
       "      <td>ARI</td>\n",
       "      <td>NL</td>\n",
       "      <td>drewst01</td>\n",
       "      <td>3400000</td>\n",
       "      <td>Medium</td>\n",
       "    </tr>\n",
       "    <tr>\n",
       "      <th>20627</th>\n",
       "      <td>2010</td>\n",
       "      <td>ARI</td>\n",
       "      <td>NL</td>\n",
       "      <td>gutieju01</td>\n",
       "      <td>411000</td>\n",
       "      <td>Low</td>\n",
       "    </tr>\n",
       "    <tr>\n",
       "      <th>20628</th>\n",
       "      <td>2010</td>\n",
       "      <td>ARI</td>\n",
       "      <td>NL</td>\n",
       "      <td>harenda01</td>\n",
       "      <td>8250000</td>\n",
       "      <td>Medium</td>\n",
       "    </tr>\n",
       "  </tbody>\n",
       "</table>\n",
       "</div>"
      ],
      "text/plain": [
       "       yearID teamID lgID   playerID   salary   Class\n",
       "20624    2010    ARI   NL  abreuto01   407000     Low\n",
       "20625    2010    ARI   NL  boyerbl01   725000     Low\n",
       "20626    2010    ARI   NL   drewst01  3400000  Medium\n",
       "20627    2010    ARI   NL  gutieju01   411000     Low\n",
       "20628    2010    ARI   NL  harenda01  8250000  Medium"
      ]
     },
     "execution_count": 308,
     "metadata": {},
     "output_type": "execute_result"
    }
   ],
   "source": [
    "# Double check the column has been added\n",
    "\n",
    "salaries_since_2010.head()"
   ]
  },
  {
   "cell_type": "code",
   "execution_count": 309,
   "metadata": {
    "collapsed": true
   },
   "outputs": [],
   "source": [
    "# Merge two tables - batting table and salaries table\n",
    "\n",
    "batting_and_salaries = batting_since_2010.merge(salaries_since_2010, on=['yearID', 'teamID', \"playerID\", 'lgID'], \n",
    "                                                how='inner')"
   ]
  },
  {
   "cell_type": "code",
   "execution_count": 310,
   "metadata": {
    "collapsed": false
   },
   "outputs": [
    {
     "data": {
      "text/html": [
       "<div>\n",
       "<table border=\"1\" class=\"dataframe\">\n",
       "  <thead>\n",
       "    <tr style=\"text-align: right;\">\n",
       "      <th></th>\n",
       "      <th>playerID</th>\n",
       "      <th>yearID</th>\n",
       "      <th>stint</th>\n",
       "      <th>teamID</th>\n",
       "      <th>lgID</th>\n",
       "      <th>G</th>\n",
       "      <th>AB</th>\n",
       "      <th>R</th>\n",
       "      <th>H</th>\n",
       "      <th>2B</th>\n",
       "      <th>...</th>\n",
       "      <th>CS</th>\n",
       "      <th>BB</th>\n",
       "      <th>SO</th>\n",
       "      <th>IBB</th>\n",
       "      <th>HBP</th>\n",
       "      <th>SH</th>\n",
       "      <th>SF</th>\n",
       "      <th>GIDP</th>\n",
       "      <th>salary</th>\n",
       "      <th>Class</th>\n",
       "    </tr>\n",
       "  </thead>\n",
       "  <tbody>\n",
       "    <tr>\n",
       "      <th>0</th>\n",
       "      <td>aardsda01</td>\n",
       "      <td>2010</td>\n",
       "      <td>1</td>\n",
       "      <td>SEA</td>\n",
       "      <td>AL</td>\n",
       "      <td>53</td>\n",
       "      <td>0.0</td>\n",
       "      <td>0.0</td>\n",
       "      <td>0.0</td>\n",
       "      <td>0.0</td>\n",
       "      <td>...</td>\n",
       "      <td>0.0</td>\n",
       "      <td>0.0</td>\n",
       "      <td>0.0</td>\n",
       "      <td>0.0</td>\n",
       "      <td>0.0</td>\n",
       "      <td>0.0</td>\n",
       "      <td>0.0</td>\n",
       "      <td>0.0</td>\n",
       "      <td>2750000</td>\n",
       "      <td>Medium</td>\n",
       "    </tr>\n",
       "    <tr>\n",
       "      <th>1</th>\n",
       "      <td>abreubo01</td>\n",
       "      <td>2010</td>\n",
       "      <td>1</td>\n",
       "      <td>LAA</td>\n",
       "      <td>AL</td>\n",
       "      <td>154</td>\n",
       "      <td>573.0</td>\n",
       "      <td>88.0</td>\n",
       "      <td>146.0</td>\n",
       "      <td>41.0</td>\n",
       "      <td>...</td>\n",
       "      <td>10.0</td>\n",
       "      <td>87.0</td>\n",
       "      <td>132.0</td>\n",
       "      <td>3.0</td>\n",
       "      <td>2.0</td>\n",
       "      <td>0.0</td>\n",
       "      <td>5.0</td>\n",
       "      <td>13.0</td>\n",
       "      <td>9000000</td>\n",
       "      <td>Medium</td>\n",
       "    </tr>\n",
       "    <tr>\n",
       "      <th>2</th>\n",
       "      <td>abreuto01</td>\n",
       "      <td>2010</td>\n",
       "      <td>1</td>\n",
       "      <td>ARI</td>\n",
       "      <td>NL</td>\n",
       "      <td>81</td>\n",
       "      <td>193.0</td>\n",
       "      <td>16.0</td>\n",
       "      <td>45.0</td>\n",
       "      <td>11.0</td>\n",
       "      <td>...</td>\n",
       "      <td>1.0</td>\n",
       "      <td>4.0</td>\n",
       "      <td>47.0</td>\n",
       "      <td>0.0</td>\n",
       "      <td>0.0</td>\n",
       "      <td>0.0</td>\n",
       "      <td>4.0</td>\n",
       "      <td>8.0</td>\n",
       "      <td>407000</td>\n",
       "      <td>Low</td>\n",
       "    </tr>\n",
       "    <tr>\n",
       "      <th>3</th>\n",
       "      <td>accarje01</td>\n",
       "      <td>2010</td>\n",
       "      <td>1</td>\n",
       "      <td>TOR</td>\n",
       "      <td>AL</td>\n",
       "      <td>5</td>\n",
       "      <td>0.0</td>\n",
       "      <td>0.0</td>\n",
       "      <td>0.0</td>\n",
       "      <td>0.0</td>\n",
       "      <td>...</td>\n",
       "      <td>0.0</td>\n",
       "      <td>0.0</td>\n",
       "      <td>0.0</td>\n",
       "      <td>0.0</td>\n",
       "      <td>0.0</td>\n",
       "      <td>0.0</td>\n",
       "      <td>0.0</td>\n",
       "      <td>0.0</td>\n",
       "      <td>1080000</td>\n",
       "      <td>Medium</td>\n",
       "    </tr>\n",
       "    <tr>\n",
       "      <th>4</th>\n",
       "      <td>aceveal01</td>\n",
       "      <td>2010</td>\n",
       "      <td>1</td>\n",
       "      <td>NYA</td>\n",
       "      <td>AL</td>\n",
       "      <td>10</td>\n",
       "      <td>0.0</td>\n",
       "      <td>0.0</td>\n",
       "      <td>0.0</td>\n",
       "      <td>0.0</td>\n",
       "      <td>...</td>\n",
       "      <td>0.0</td>\n",
       "      <td>0.0</td>\n",
       "      <td>0.0</td>\n",
       "      <td>0.0</td>\n",
       "      <td>0.0</td>\n",
       "      <td>0.0</td>\n",
       "      <td>0.0</td>\n",
       "      <td>0.0</td>\n",
       "      <td>435650</td>\n",
       "      <td>Low</td>\n",
       "    </tr>\n",
       "  </tbody>\n",
       "</table>\n",
       "<p>5 rows × 24 columns</p>\n",
       "</div>"
      ],
      "text/plain": [
       "    playerID  yearID  stint teamID lgID    G     AB     R      H    2B  \\\n",
       "0  aardsda01    2010      1    SEA   AL   53    0.0   0.0    0.0   0.0   \n",
       "1  abreubo01    2010      1    LAA   AL  154  573.0  88.0  146.0  41.0   \n",
       "2  abreuto01    2010      1    ARI   NL   81  193.0  16.0   45.0  11.0   \n",
       "3  accarje01    2010      1    TOR   AL    5    0.0   0.0    0.0   0.0   \n",
       "4  aceveal01    2010      1    NYA   AL   10    0.0   0.0    0.0   0.0   \n",
       "\n",
       "    ...      CS    BB     SO  IBB  HBP   SH   SF  GIDP   salary   Class  \n",
       "0   ...     0.0   0.0    0.0  0.0  0.0  0.0  0.0   0.0  2750000  Medium  \n",
       "1   ...    10.0  87.0  132.0  3.0  2.0  0.0  5.0  13.0  9000000  Medium  \n",
       "2   ...     1.0   4.0   47.0  0.0  0.0  0.0  4.0   8.0   407000     Low  \n",
       "3   ...     0.0   0.0    0.0  0.0  0.0  0.0  0.0   0.0  1080000  Medium  \n",
       "4   ...     0.0   0.0    0.0  0.0  0.0  0.0  0.0   0.0   435650     Low  \n",
       "\n",
       "[5 rows x 24 columns]"
      ]
     },
     "execution_count": 310,
     "metadata": {},
     "output_type": "execute_result"
    }
   ],
   "source": [
    "# Double check two tables have been merged\n",
    "\n",
    "batting_and_salaries.head()"
   ]
  },
  {
   "cell_type": "code",
   "execution_count": 311,
   "metadata": {
    "collapsed": true
   },
   "outputs": [],
   "source": [
    "# Extract the metrics I am interested in - mean HR (home run) and salary for each batter, grouped by salary class\n",
    "\n",
    "batting_and_salaries_grouped = batting_and_salaries.groupby(['Class', 'playerID']).mean()[['HR', 'salary']]"
   ]
  },
  {
   "cell_type": "code",
   "execution_count": 312,
   "metadata": {
    "collapsed": false
   },
   "outputs": [
    {
     "name": "stdout",
     "output_type": "stream",
     "text": [
      "Correlation of home run to salary for players who earn more than $10 million per year\n",
      "0.1428293364264446\n",
      " \n",
      "Correlation of home run to salary for players who make $1 million to $10 million per year\n",
      "0.275663782707538\n",
      " \n",
      "Correlation of home run to salary for players who earn below $1 million per year\n",
      "-0.021231869954056466\n"
     ]
    }
   ],
   "source": [
    "# Apply the function defined earlier, calculate the correlation these two variables in different salary class groups\n",
    "\n",
    "print('Correlation of home run to salary for players who earn more than $10 million per year')\n",
    "print(correlation(batting_and_salaries_grouped.loc['High']['HR'], batting_and_salaries_grouped.loc['High']['salary']))\n",
    "print(' ')\n",
    "print('Correlation of home run to salary for players who make $1 million to $10 million per year')\n",
    "print(correlation(batting_and_salaries_grouped.loc['Medium']['HR'], batting_and_salaries_grouped.loc['Medium']['salary']))\n",
    "print(' ')\n",
    "print('Correlation of home run to salary for players who earn below $1 million per year')\n",
    "print(correlation(batting_and_salaries_grouped.loc['Low']['HR'], batting_and_salaries_grouped.loc['Low']['salary']))"
   ]
  },
  {
   "cell_type": "markdown",
   "metadata": {},
   "source": [
    "### From the above batting statistics analysis, we can see that players earning the lowest\tsalaries show the lowest correlations, and a high salary does not necessarily indicate a strong home run performance. However, for players who I categorized as medium salary players, it seems that salary has a relatively higher correlation with home run performance when compare with low salary and high salary players. "
   ]
  },
  {
   "cell_type": "markdown",
   "metadata": {},
   "source": [
    "## Now, its time to use salaries table and master tabel to get the answers to my 5th question - who is the highest paid, and who are the top 10s. "
   ]
  },
  {
   "cell_type": "code",
   "execution_count": 313,
   "metadata": {
    "collapsed": false
   },
   "outputs": [],
   "source": [
    "# Extract the top 10 highest paid on average from 2010-2015\n",
    "\n",
    "top_ten = salaries_since_2010.groupby('playerID').mean()['salary'].sort_values(ascending=False).head(10)"
   ]
  },
  {
   "cell_type": "code",
   "execution_count": 314,
   "metadata": {
    "collapsed": false
   },
   "outputs": [
    {
     "data": {
      "text/plain": [
       "playerID\n",
       "rodrial01    2.920000e+07\n",
       "sabatcc01    2.364286e+07\n",
       "wellsve01    2.267634e+07\n",
       "teixema01    2.260417e+07\n",
       "tanakma01    2.200000e+07\n",
       "santajo01    2.164481e+07\n",
       "howarry01    2.150000e+07\n",
       "mauerjo01    2.125000e+07\n",
       "cabremi01    2.100000e+07\n",
       "fieldpr01    2.008333e+07\n",
       "Name: salary, dtype: float64"
      ]
     },
     "execution_count": 314,
     "metadata": {},
     "output_type": "execute_result"
    }
   ],
   "source": [
    "# Here is the top 10 salary list\n",
    "top_ten"
   ]
  },
  {
   "cell_type": "markdown",
   "metadata": {},
   "source": [
    "## I want to have a new column in master table that combine Firstname and Lastname in the format of 'Firstname Lastname', then drop the previous 'nameFirst' & 'nameLast' columns. Let's do that."
   ]
  },
  {
   "cell_type": "code",
   "execution_count": 315,
   "metadata": {
    "collapsed": false
   },
   "outputs": [],
   "source": [
    "# From master table, I want to conbime nameFirst and nameLast columns to one column - fullName, \n",
    "# and the name in the format of 'Firstname Lastname'\n",
    "\n",
    "master['fullName'] = master['nameFirst'] + ' ' + master['nameLast']"
   ]
  },
  {
   "cell_type": "code",
   "execution_count": 316,
   "metadata": {
    "collapsed": false
   },
   "outputs": [],
   "source": [
    "# After that, I do not need these two old columns anymore\n",
    "\n",
    "master.drop(['nameFirst', 'nameLast'], inplace=True, axis=1)"
   ]
  },
  {
   "cell_type": "markdown",
   "metadata": {},
   "source": [
    "## There are missing values in player's weight and height columns. Let's fill them by taking the average."
   ]
  },
  {
   "cell_type": "code",
   "execution_count": 317,
   "metadata": {
    "collapsed": false
   },
   "outputs": [
    {
     "data": {
      "text/plain": [
       "True"
      ]
     },
     "execution_count": 317,
     "metadata": {},
     "output_type": "execute_result"
    }
   ],
   "source": [
    "# There are NaN values in weight and height columns\n",
    "\n",
    "master[['weight', 'height']].isnull().values.any()"
   ]
  },
  {
   "cell_type": "code",
   "execution_count": 318,
   "metadata": {
    "collapsed": false
   },
   "outputs": [
    {
     "data": {
      "text/plain": [
       "False"
      ]
     },
     "execution_count": 318,
     "metadata": {},
     "output_type": "execute_result"
    }
   ],
   "source": [
    "# Fill the missing values in weight and height columns by the average \n",
    "\n",
    "master['weight'].fillna(master['weight'].mean(), inplace = True)\n",
    "master['height'].fillna(master['height'].mean(), inplace = True)\n",
    "\n",
    "# Double check the missing values have been filled\n",
    "\n",
    "master[['weight', 'height']].isnull().values.any()"
   ]
  },
  {
   "cell_type": "code",
   "execution_count": 319,
   "metadata": {
    "collapsed": false
   },
   "outputs": [],
   "source": [
    "# Set playerID to index\n",
    "\n",
    "master.set_index('playerID', inplace=True)"
   ]
  },
  {
   "cell_type": "markdown",
   "metadata": {},
   "source": [
    "## Here it is, the top 10 highest paid baseball players on average from 2010 to 2015."
   ]
  },
  {
   "cell_type": "code",
   "execution_count": 320,
   "metadata": {
    "collapsed": false
   },
   "outputs": [
    {
     "data": {
      "text/html": [
       "<div>\n",
       "<table border=\"1\" class=\"dataframe\">\n",
       "  <thead>\n",
       "    <tr style=\"text-align: right;\">\n",
       "      <th></th>\n",
       "      <th>salary</th>\n",
       "      <th>birthYear</th>\n",
       "      <th>birthMonth</th>\n",
       "      <th>birthDay</th>\n",
       "      <th>birthCountry</th>\n",
       "      <th>birthState</th>\n",
       "      <th>birthCity</th>\n",
       "      <th>deathYear</th>\n",
       "      <th>deathMonth</th>\n",
       "      <th>deathDay</th>\n",
       "      <th>...</th>\n",
       "      <th>nameGiven</th>\n",
       "      <th>weight</th>\n",
       "      <th>height</th>\n",
       "      <th>bats</th>\n",
       "      <th>throws</th>\n",
       "      <th>debut</th>\n",
       "      <th>finalGame</th>\n",
       "      <th>retroID</th>\n",
       "      <th>bbrefID</th>\n",
       "      <th>fullName</th>\n",
       "    </tr>\n",
       "    <tr>\n",
       "      <th>playerID</th>\n",
       "      <th></th>\n",
       "      <th></th>\n",
       "      <th></th>\n",
       "      <th></th>\n",
       "      <th></th>\n",
       "      <th></th>\n",
       "      <th></th>\n",
       "      <th></th>\n",
       "      <th></th>\n",
       "      <th></th>\n",
       "      <th></th>\n",
       "      <th></th>\n",
       "      <th></th>\n",
       "      <th></th>\n",
       "      <th></th>\n",
       "      <th></th>\n",
       "      <th></th>\n",
       "      <th></th>\n",
       "      <th></th>\n",
       "      <th></th>\n",
       "      <th></th>\n",
       "    </tr>\n",
       "  </thead>\n",
       "  <tbody>\n",
       "    <tr>\n",
       "      <th>rodrial01</th>\n",
       "      <td>2.920000e+07</td>\n",
       "      <td>1975.0</td>\n",
       "      <td>7.0</td>\n",
       "      <td>27.0</td>\n",
       "      <td>USA</td>\n",
       "      <td>NY</td>\n",
       "      <td>New York</td>\n",
       "      <td>NaN</td>\n",
       "      <td>NaN</td>\n",
       "      <td>NaN</td>\n",
       "      <td>...</td>\n",
       "      <td>Alexander Enmanuel</td>\n",
       "      <td>225.0</td>\n",
       "      <td>75.0</td>\n",
       "      <td>R</td>\n",
       "      <td>R</td>\n",
       "      <td>1994-07-08</td>\n",
       "      <td>2015-10-04</td>\n",
       "      <td>rodra001</td>\n",
       "      <td>rodrial01</td>\n",
       "      <td>Alex Rodriguez</td>\n",
       "    </tr>\n",
       "    <tr>\n",
       "      <th>sabatcc01</th>\n",
       "      <td>2.364286e+07</td>\n",
       "      <td>1980.0</td>\n",
       "      <td>7.0</td>\n",
       "      <td>21.0</td>\n",
       "      <td>USA</td>\n",
       "      <td>CA</td>\n",
       "      <td>Vallejo</td>\n",
       "      <td>NaN</td>\n",
       "      <td>NaN</td>\n",
       "      <td>NaN</td>\n",
       "      <td>...</td>\n",
       "      <td>Carsten Charles</td>\n",
       "      <td>285.0</td>\n",
       "      <td>79.0</td>\n",
       "      <td>L</td>\n",
       "      <td>L</td>\n",
       "      <td>2001-04-08</td>\n",
       "      <td>2015-10-01</td>\n",
       "      <td>sabac001</td>\n",
       "      <td>sabatc.01</td>\n",
       "      <td>CC Sabathia</td>\n",
       "    </tr>\n",
       "    <tr>\n",
       "      <th>wellsve01</th>\n",
       "      <td>2.267634e+07</td>\n",
       "      <td>1978.0</td>\n",
       "      <td>12.0</td>\n",
       "      <td>8.0</td>\n",
       "      <td>USA</td>\n",
       "      <td>LA</td>\n",
       "      <td>Shreveport</td>\n",
       "      <td>NaN</td>\n",
       "      <td>NaN</td>\n",
       "      <td>NaN</td>\n",
       "      <td>...</td>\n",
       "      <td>Vernon M.</td>\n",
       "      <td>230.0</td>\n",
       "      <td>73.0</td>\n",
       "      <td>R</td>\n",
       "      <td>R</td>\n",
       "      <td>1999-08-30</td>\n",
       "      <td>2013-09-29</td>\n",
       "      <td>wellv001</td>\n",
       "      <td>wellsve01</td>\n",
       "      <td>Vernon Wells</td>\n",
       "    </tr>\n",
       "    <tr>\n",
       "      <th>teixema01</th>\n",
       "      <td>2.260417e+07</td>\n",
       "      <td>1980.0</td>\n",
       "      <td>4.0</td>\n",
       "      <td>11.0</td>\n",
       "      <td>USA</td>\n",
       "      <td>MD</td>\n",
       "      <td>Annapolis</td>\n",
       "      <td>NaN</td>\n",
       "      <td>NaN</td>\n",
       "      <td>NaN</td>\n",
       "      <td>...</td>\n",
       "      <td>Mark Charles</td>\n",
       "      <td>225.0</td>\n",
       "      <td>75.0</td>\n",
       "      <td>B</td>\n",
       "      <td>R</td>\n",
       "      <td>2003-04-01</td>\n",
       "      <td>2015-08-26</td>\n",
       "      <td>teixm001</td>\n",
       "      <td>teixema01</td>\n",
       "      <td>Mark Teixeira</td>\n",
       "    </tr>\n",
       "    <tr>\n",
       "      <th>tanakma01</th>\n",
       "      <td>2.200000e+07</td>\n",
       "      <td>1988.0</td>\n",
       "      <td>11.0</td>\n",
       "      <td>1.0</td>\n",
       "      <td>Japan</td>\n",
       "      <td>Hyogo</td>\n",
       "      <td>Itami</td>\n",
       "      <td>NaN</td>\n",
       "      <td>NaN</td>\n",
       "      <td>NaN</td>\n",
       "      <td>...</td>\n",
       "      <td>Masahiro</td>\n",
       "      <td>210.0</td>\n",
       "      <td>74.0</td>\n",
       "      <td>R</td>\n",
       "      <td>R</td>\n",
       "      <td>2014-04-04</td>\n",
       "      <td>2015-09-30</td>\n",
       "      <td>tanam001</td>\n",
       "      <td>tanakma01</td>\n",
       "      <td>Masahiro Tanaka</td>\n",
       "    </tr>\n",
       "    <tr>\n",
       "      <th>santajo01</th>\n",
       "      <td>2.164481e+07</td>\n",
       "      <td>1979.0</td>\n",
       "      <td>3.0</td>\n",
       "      <td>13.0</td>\n",
       "      <td>Venezuela</td>\n",
       "      <td>Merida</td>\n",
       "      <td>Tovar</td>\n",
       "      <td>NaN</td>\n",
       "      <td>NaN</td>\n",
       "      <td>NaN</td>\n",
       "      <td>...</td>\n",
       "      <td>Johan Alexander</td>\n",
       "      <td>210.0</td>\n",
       "      <td>72.0</td>\n",
       "      <td>L</td>\n",
       "      <td>L</td>\n",
       "      <td>2000-04-03</td>\n",
       "      <td>2012-08-17</td>\n",
       "      <td>santj003</td>\n",
       "      <td>santajo02</td>\n",
       "      <td>Johan Santana</td>\n",
       "    </tr>\n",
       "    <tr>\n",
       "      <th>howarry01</th>\n",
       "      <td>2.150000e+07</td>\n",
       "      <td>1979.0</td>\n",
       "      <td>11.0</td>\n",
       "      <td>19.0</td>\n",
       "      <td>USA</td>\n",
       "      <td>MO</td>\n",
       "      <td>St. Louis</td>\n",
       "      <td>NaN</td>\n",
       "      <td>NaN</td>\n",
       "      <td>NaN</td>\n",
       "      <td>...</td>\n",
       "      <td>Ryan James</td>\n",
       "      <td>250.0</td>\n",
       "      <td>76.0</td>\n",
       "      <td>L</td>\n",
       "      <td>L</td>\n",
       "      <td>2004-09-01</td>\n",
       "      <td>2015-09-14</td>\n",
       "      <td>howar001</td>\n",
       "      <td>howarry01</td>\n",
       "      <td>Ryan Howard</td>\n",
       "    </tr>\n",
       "    <tr>\n",
       "      <th>mauerjo01</th>\n",
       "      <td>2.125000e+07</td>\n",
       "      <td>1983.0</td>\n",
       "      <td>4.0</td>\n",
       "      <td>19.0</td>\n",
       "      <td>USA</td>\n",
       "      <td>MN</td>\n",
       "      <td>St. Paul</td>\n",
       "      <td>NaN</td>\n",
       "      <td>NaN</td>\n",
       "      <td>NaN</td>\n",
       "      <td>...</td>\n",
       "      <td>Joseph Patrick</td>\n",
       "      <td>225.0</td>\n",
       "      <td>77.0</td>\n",
       "      <td>L</td>\n",
       "      <td>R</td>\n",
       "      <td>2004-04-05</td>\n",
       "      <td>2015-10-03</td>\n",
       "      <td>mauej001</td>\n",
       "      <td>mauerjo01</td>\n",
       "      <td>Joe Mauer</td>\n",
       "    </tr>\n",
       "    <tr>\n",
       "      <th>cabremi01</th>\n",
       "      <td>2.100000e+07</td>\n",
       "      <td>1983.0</td>\n",
       "      <td>4.0</td>\n",
       "      <td>18.0</td>\n",
       "      <td>Venezuela</td>\n",
       "      <td>Aragua</td>\n",
       "      <td>Maracay</td>\n",
       "      <td>NaN</td>\n",
       "      <td>NaN</td>\n",
       "      <td>NaN</td>\n",
       "      <td>...</td>\n",
       "      <td>Jose Miguel</td>\n",
       "      <td>240.0</td>\n",
       "      <td>76.0</td>\n",
       "      <td>R</td>\n",
       "      <td>R</td>\n",
       "      <td>2003-06-20</td>\n",
       "      <td>2015-10-03</td>\n",
       "      <td>cabrm001</td>\n",
       "      <td>cabremi01</td>\n",
       "      <td>Miguel Cabrera</td>\n",
       "    </tr>\n",
       "    <tr>\n",
       "      <th>fieldpr01</th>\n",
       "      <td>2.008333e+07</td>\n",
       "      <td>1984.0</td>\n",
       "      <td>5.0</td>\n",
       "      <td>9.0</td>\n",
       "      <td>USA</td>\n",
       "      <td>CA</td>\n",
       "      <td>Ontario</td>\n",
       "      <td>NaN</td>\n",
       "      <td>NaN</td>\n",
       "      <td>NaN</td>\n",
       "      <td>...</td>\n",
       "      <td>Prince Semien</td>\n",
       "      <td>275.0</td>\n",
       "      <td>71.0</td>\n",
       "      <td>L</td>\n",
       "      <td>R</td>\n",
       "      <td>2005-06-13</td>\n",
       "      <td>2015-10-04</td>\n",
       "      <td>fielp001</td>\n",
       "      <td>fieldpr01</td>\n",
       "      <td>Prince Fielder</td>\n",
       "    </tr>\n",
       "  </tbody>\n",
       "</table>\n",
       "<p>10 rows × 23 columns</p>\n",
       "</div>"
      ],
      "text/plain": [
       "                 salary  birthYear  birthMonth  birthDay birthCountry  \\\n",
       "playerID                                                                \n",
       "rodrial01  2.920000e+07     1975.0         7.0      27.0          USA   \n",
       "sabatcc01  2.364286e+07     1980.0         7.0      21.0          USA   \n",
       "wellsve01  2.267634e+07     1978.0        12.0       8.0          USA   \n",
       "teixema01  2.260417e+07     1980.0         4.0      11.0          USA   \n",
       "tanakma01  2.200000e+07     1988.0        11.0       1.0        Japan   \n",
       "santajo01  2.164481e+07     1979.0         3.0      13.0    Venezuela   \n",
       "howarry01  2.150000e+07     1979.0        11.0      19.0          USA   \n",
       "mauerjo01  2.125000e+07     1983.0         4.0      19.0          USA   \n",
       "cabremi01  2.100000e+07     1983.0         4.0      18.0    Venezuela   \n",
       "fieldpr01  2.008333e+07     1984.0         5.0       9.0          USA   \n",
       "\n",
       "          birthState   birthCity  deathYear  deathMonth  deathDay  \\\n",
       "playerID                                                            \n",
       "rodrial01         NY    New York        NaN         NaN       NaN   \n",
       "sabatcc01         CA     Vallejo        NaN         NaN       NaN   \n",
       "wellsve01         LA  Shreveport        NaN         NaN       NaN   \n",
       "teixema01         MD   Annapolis        NaN         NaN       NaN   \n",
       "tanakma01      Hyogo       Itami        NaN         NaN       NaN   \n",
       "santajo01     Merida       Tovar        NaN         NaN       NaN   \n",
       "howarry01         MO   St. Louis        NaN         NaN       NaN   \n",
       "mauerjo01         MN    St. Paul        NaN         NaN       NaN   \n",
       "cabremi01     Aragua     Maracay        NaN         NaN       NaN   \n",
       "fieldpr01         CA     Ontario        NaN         NaN       NaN   \n",
       "\n",
       "                ...                  nameGiven weight height bats  throws  \\\n",
       "playerID        ...                                                         \n",
       "rodrial01       ...         Alexander Enmanuel  225.0   75.0    R       R   \n",
       "sabatcc01       ...            Carsten Charles  285.0   79.0    L       L   \n",
       "wellsve01       ...                  Vernon M.  230.0   73.0    R       R   \n",
       "teixema01       ...               Mark Charles  225.0   75.0    B       R   \n",
       "tanakma01       ...                   Masahiro  210.0   74.0    R       R   \n",
       "santajo01       ...            Johan Alexander  210.0   72.0    L       L   \n",
       "howarry01       ...                 Ryan James  250.0   76.0    L       L   \n",
       "mauerjo01       ...             Joseph Patrick  225.0   77.0    L       R   \n",
       "cabremi01       ...                Jose Miguel  240.0   76.0    R       R   \n",
       "fieldpr01       ...              Prince Semien  275.0   71.0    L       R   \n",
       "\n",
       "                debut   finalGame   retroID    bbrefID         fullName  \n",
       "playerID                                                                 \n",
       "rodrial01  1994-07-08  2015-10-04  rodra001  rodrial01   Alex Rodriguez  \n",
       "sabatcc01  2001-04-08  2015-10-01  sabac001  sabatc.01      CC Sabathia  \n",
       "wellsve01  1999-08-30  2013-09-29  wellv001  wellsve01     Vernon Wells  \n",
       "teixema01  2003-04-01  2015-08-26  teixm001  teixema01    Mark Teixeira  \n",
       "tanakma01  2014-04-04  2015-09-30  tanam001  tanakma01  Masahiro Tanaka  \n",
       "santajo01  2000-04-03  2012-08-17  santj003  santajo02    Johan Santana  \n",
       "howarry01  2004-09-01  2015-09-14  howar001  howarry01      Ryan Howard  \n",
       "mauerjo01  2004-04-05  2015-10-03  mauej001  mauerjo01        Joe Mauer  \n",
       "cabremi01  2003-06-20  2015-10-03  cabrm001  cabremi01   Miguel Cabrera  \n",
       "fieldpr01  2005-06-13  2015-10-04  fielp001  fieldpr01   Prince Fielder  \n",
       "\n",
       "[10 rows x 23 columns]"
      ]
     },
     "execution_count": 320,
     "metadata": {},
     "output_type": "execute_result"
    }
   ],
   "source": [
    "# Concatenate a Series and DataFrame, return a DataFrame with all top_10 highest paid players informaton.\n",
    "\n",
    "pd.concat([top_ten, master.loc[top_ten.index]], axis=1)"
   ]
  },
  {
   "cell_type": "markdown",
   "metadata": {},
   "source": [
    "## Conclusion\n",
    "\n",
    "### In recent years, it has been the common belief that teams with the highest overall salaries have the highest winning percentage. From the above analysis, payroll is not the most significant factor, at least not for the 2015 season. There are countless factors that contribute to a winning team from owners to managers to players to fan attendance. To explore the best model to predict winning, rigorous hypothesis testings are needed (i.e. one sample hypothesis testing for salary to winning correlation).\n",
    "\n",
    "### In addition, for individual players,  the correlation between performance and salary in baseball has been studied extensively. However, there is no single factor that can predict a player's pay. To proper understand the relationship between salary and on-field performance, not only we need to perform rigorous hypothesis testings on many variables, but also we need to understand how wage are determined in baseball. Those are the limitations for this analysis. \n",
    "\n",
    "### For the future research, I am interested in exploring the best way to field a team, and the best way to allocate resources to secure the most possible wins.  \n",
    "\n",
    "### Anyway, Spring training is five weeks away, Jose Bautista doesn't have a deal and Toronto Blue Jays still needs another batter. Let's see what's going to happen."
   ]
  },
  {
   "cell_type": "markdown",
   "metadata": {},
   "source": [
    "### References\n",
    "#### Adam Houser, [Which Baseball Statistic Is the Most Important When Determining Team Success?](https://www.iwu.edu/economics/PPE13/houser.pdf) \n",
    "#### Matt Butts, Miranda Edwards, [Payroll and Wins in Major League Baseball](https://courses.cs.washington.edu/courses/cse140/13wi/projects/mirae-report.pdf)\n",
    "#### Mikhail Averbukh, Baseball Pay and Performance MIS 480/580, 2015\n",
    "#### [Wikipedia](https://en.wikipedia.org/wiki/Baseball)\n",
    "#### [Toronto Blue Jays](http://m.bluejays.mlb.com/news/article/213066364/blue-jays-are-best-fit-for-jose-bautista/)"
   ]
  },
  {
   "cell_type": "markdown",
   "metadata": {},
   "source": [
    "Notebook created by: [Susan Li](https://www.linkedin.com/in/susanli/)"
   ]
  }
 ],
 "metadata": {
  "anaconda-cloud": {},
  "kernelspec": {
   "display_name": "Python [default]",
   "language": "python",
   "name": "python3"
  },
  "language_info": {
   "codemirror_mode": {
    "name": "ipython",
    "version": 3
   },
   "file_extension": ".py",
   "mimetype": "text/x-python",
   "name": "python",
   "nbconvert_exporter": "python",
   "pygments_lexer": "ipython3",
   "version": "3.5.2"
  }
 },
 "nbformat": 4,
 "nbformat_minor": 2
}
